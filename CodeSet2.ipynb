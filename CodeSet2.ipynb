{
 "cells": [
  {
   "cell_type": "markdown",
   "id": "d347d3d7-1c53-45af-83a2-7368d7fca4d9",
   "metadata": {},
   "source": [
    "# Coding Set 2\n",
    "Algorithm Workbench: Ex. 4\n",
    "Programming Exercises: Ex. 3, 13"
   ]
  },
  {
   "cell_type": "markdown",
   "id": "b58ebeac-d717-40b0-9ce5-a092f83a07ae",
   "metadata": {},
   "source": [
    "## Algorithm Workbench: \n",
    "Ex. 4) Assume the variables result, w, x, y, and z are all integers, and that w = 5, x = 4,\n",
    "y = 8, and z = 2. What value will be stored in result after each of the following\n",
    "statements execute?\n",
    "\n",
    "a. result = x + y\n",
    "\n",
    "b. result = z * 2\n",
    "\n",
    "c. result = y / x\n",
    "\n",
    "d. result = y – z\n",
    "\n",
    "e. result = w // z"
   ]
  },
  {
   "cell_type": "code",
   "execution_count": 8,
   "id": "c6631785-1748-4649-8e4d-d02bc1084679",
   "metadata": {
    "tags": []
   },
   "outputs": [
    {
     "name": "stdout",
     "output_type": "stream",
     "text": [
      "12\n",
      "4\n",
      "2.0\n",
      "4\n",
      "2\n",
      "1\n",
      "25\n"
     ]
    }
   ],
   "source": [
    "#Assigning variables\n",
    "w, x, y, z = 5, 4, 8, 2\n",
    "\n",
    "#simple addsion \n",
    "result = x+y\n",
    "print(result)\n",
    "\n",
    "#multiplication\n",
    "result = z*2\n",
    "print(result)\n",
    "\n",
    "#divsion\n",
    "result = y/x\n",
    "print(result)\n",
    "\n",
    "#subtraction\n",
    "result = y-x\n",
    "print(result)\n",
    "\n",
    "#rounded divsion\n",
    "result = w//z\n",
    "print(result)\n",
    "\n",
    "#modulus\n",
    "result = w%z\n",
    "print(result)\n",
    "\n",
    "#exponent\n",
    "result = w**z\n",
    "print(result)"
   ]
  },
  {
   "cell_type": "markdown",
   "id": "60c85bdb-1bb8-4f1b-a37c-82b6ab30fbba",
   "metadata": {},
   "source": [
    "## Programming Exercises:\n",
    "Ex. 3) Pounds to Kilograms\n",
    "\n",
    "One pound is equivalent to 0.454 kilograms. Write a program that asks the user to enter\n",
    "the mass of an object in pounds and then calculates and displays the mass of the object in\n",
    "kilograms."
   ]
  },
  {
   "cell_type": "code",
   "execution_count": 9,
   "id": "0fb485bf-9c2a-426b-8a5a-cd0261da6992",
   "metadata": {
    "tags": []
   },
   "outputs": [
    {
     "name": "stdin",
     "output_type": "stream",
     "text": [
      "Please enter in the weight of the object in pounds 50\n"
     ]
    },
    {
     "name": "stdout",
     "output_type": "stream",
     "text": [
      "The weight in kilograms is: 22.7\n"
     ]
    }
   ],
   "source": [
    "#Asking for user input\n",
    "mass = float(input('Please enter in the weight of the object in pounds'))\n",
    "\n",
    "#coverting to kilograms\n",
    "mass = mass * 0.454\n",
    "print('The weight in kilograms is: '+ str(mass))"
   ]
  },
  {
   "cell_type": "markdown",
   "id": "0bc854b0-6365-447d-a780-0a9a678b581d",
   "metadata": {},
   "source": [
    "Ex. 13) Planting Grapevines\n",
    "\n",
    "A vineyard owner is planting several new rows of grapevines, and needs to know how many\n",
    "grapevines to plant in each row. She has determined that after measuring the length of a\n",
    "future row, she can use the following formula to calculate the number of vines that will fit\n",
    "in the row, along with the trellis end-post assemblies that will need to be constructed at\n",
    "each end of the row:\n",
    "\n",
    "                    V = (R-2E)/S\n",
    "\n",
    "The terms in the formula are:\n",
    "\n",
    "V is the number of grapevines that will fit in the row.\n",
    "\n",
    "R is the length of the row, in feet.\n",
    "\n",
    "E is the amount of space, in feet, used by an end-post assembly.\n",
    "\n",
    "S is the space between vines, in feet.\n",
    "\n",
    "Write a program that makes the calculation for the vineyard owner. The program should\n",
    "ask the user to input the following:\n",
    "\n",
    "• The length of the row, in feet\n",
    "\n",
    "• The amount of space used by an end-post assembly, in feet\n",
    "\n",
    "• The amount of space between the vines, in feet\n",
    "\n",
    "Once the input data has been entered, the program should calculate and display the number\n",
    "of grapevines that will fit in the row."
   ]
  },
  {
   "cell_type": "code",
   "execution_count": 12,
   "id": "16ab73e7-2baf-4a78-bdaa-416b7487db39",
   "metadata": {
    "tags": []
   },
   "outputs": [
    {
     "name": "stdin",
     "output_type": "stream",
     "text": [
      "Please enter in the length of the row, in feet:  60\n",
      "Please enter in the amount of space used by an end-post assembly, in feet:  2\n",
      "Please enter in the space between vines, in feet:  4\n"
     ]
    },
    {
     "name": "stdout",
     "output_type": "stream",
     "text": [
      "The number of vines you can plant are: 14.0\n"
     ]
    }
   ],
   "source": [
    "#Assigning variables\n",
    "R = float(input('Please enter in the length of the row, in feet: '))\n",
    "E = float(input('Please enter in the amount of space used by an end-post assembly, in feet: '))\n",
    "S = float(input('Please enter in the space between vines, in feet: '))\n",
    "\n",
    "#Running calculation\n",
    "V = (R - 2*E) // S\n",
    "print('The number of vines you can plant are: '+ str(V))"
   ]
  },
  {
   "cell_type": "code",
   "execution_count": null,
   "id": "f89e78a7-ff5a-4791-99a1-b5e968194a65",
   "metadata": {},
   "outputs": [],
   "source": []
  }
 ],
 "metadata": {
  "kernelspec": {
   "display_name": "Python 3 (ipykernel)",
   "language": "python",
   "name": "python3"
  },
  "language_info": {
   "codemirror_mode": {
    "name": "ipython",
    "version": 3
   },
   "file_extension": ".py",
   "mimetype": "text/x-python",
   "name": "python",
   "nbconvert_exporter": "python",
   "pygments_lexer": "ipython3",
   "version": "3.11.4"
  }
 },
 "nbformat": 4,
 "nbformat_minor": 5
}
