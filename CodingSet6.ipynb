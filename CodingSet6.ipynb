{
 "cells": [
  {
   "cell_type": "markdown",
   "id": "4d4be5e7",
   "metadata": {},
   "source": [
    "# Coding Set 6\n",
    "Algorithm Workbench: 3, 4 | Programming Exercises: 1, 5, 6, 9"
   ]
  },
  {
   "cell_type": "markdown",
   "id": "2651f8df",
   "metadata": {},
   "source": [
    "## Algorithm Workbench: 3, 4\n",
    "#### Ex. 3) Write code that does the following: opens an output file with the filename number_list.txt, uses a loop to write the numbers 1 through 100 to the file, then closes the file."
   ]
  },
  {
   "cell_type": "code",
   "execution_count": 2,
   "id": "031d189e",
   "metadata": {},
   "outputs": [],
   "source": [
    "number_list = open(r\"C:\\Users\\Steven Hansen\\OneDrive\\Desktop\\School\\Python\\code\\python41810\\CodingSet5Files\\number_list.txt\",\n",
    "                   \"w\")\n",
    "\n",
    "for x in range(1, 100):\n",
    "    number_list.write(str(x) + \"\\n\")\n",
    "    \n",
    "number_list.close()"
   ]
  },
  {
   "cell_type": "markdown",
   "id": "f6aa1371",
   "metadata": {},
   "source": [
    "#### Ex. 4) Write code that does the following: opens the number_list.txt file that was created by the code you wrote in question 3, reads all of the numbers from the file and displays them, then closes the file."
   ]
  },
  {
   "cell_type": "code",
   "execution_count": 3,
   "id": "55d1f913",
   "metadata": {},
   "outputs": [
    {
     "name": "stdout",
     "output_type": "stream",
     "text": [
      "1\n",
      "2\n",
      "3\n",
      "4\n",
      "5\n",
      "6\n",
      "7\n",
      "8\n",
      "9\n",
      "10\n",
      "11\n",
      "12\n",
      "13\n",
      "14\n",
      "15\n",
      "16\n",
      "17\n",
      "18\n",
      "19\n",
      "20\n",
      "21\n",
      "22\n",
      "23\n",
      "24\n",
      "25\n",
      "26\n",
      "27\n",
      "28\n",
      "29\n",
      "30\n",
      "31\n",
      "32\n",
      "33\n",
      "34\n",
      "35\n",
      "36\n",
      "37\n",
      "38\n",
      "39\n",
      "40\n",
      "41\n",
      "42\n",
      "43\n",
      "44\n",
      "45\n",
      "46\n",
      "47\n",
      "48\n",
      "49\n",
      "50\n",
      "51\n",
      "52\n",
      "53\n",
      "54\n",
      "55\n",
      "56\n",
      "57\n",
      "58\n",
      "59\n",
      "60\n",
      "61\n",
      "62\n",
      "63\n",
      "64\n",
      "65\n",
      "66\n",
      "67\n",
      "68\n",
      "69\n",
      "70\n",
      "71\n",
      "72\n",
      "73\n",
      "74\n",
      "75\n",
      "76\n",
      "77\n",
      "78\n",
      "79\n",
      "80\n",
      "81\n",
      "82\n",
      "83\n",
      "84\n",
      "85\n",
      "86\n",
      "87\n",
      "88\n",
      "89\n",
      "90\n",
      "91\n",
      "92\n",
      "93\n",
      "94\n",
      "95\n",
      "96\n",
      "97\n",
      "98\n",
      "99\n",
      "\n"
     ]
    }
   ],
   "source": [
    "number_list = open(r\"C:\\Users\\Steven Hansen\\OneDrive\\Desktop\\School\\Python\\code\\python41810\\CodingSet5Files\\number_list.txt\",\n",
    "                   \"r\")\n",
    "file_contents = number_list.read()\n",
    "\n",
    "print(file_contents)\n",
    "number_list.close()"
   ]
  },
  {
   "cell_type": "markdown",
   "id": "d019a599",
   "metadata": {},
   "source": [
    "## Programming Exercises: 1, 5, 6, 9\n",
    "#### Ex. 1) File Display\n",
    "Assume a file containing a series of integers is named numbers.txt and exists on the computer’s\n",
    "disk. Write a program that displays all of the numbers in the file."
   ]
  },
  {
   "cell_type": "code",
   "execution_count": 13,
   "id": "30b5f550",
   "metadata": {},
   "outputs": [
    {
     "name": "stdout",
     "output_type": "stream",
     "text": [
      "1\n",
      "2\n",
      "3\n",
      "4\n",
      "5\n",
      "6\n",
      "7\n",
      "8\n",
      "9\n",
      "10\n",
      "\n"
     ]
    }
   ],
   "source": [
    "numbers = open(r\"C:\\Users\\Steven Hansen\\OneDrive\\Desktop\\School\\Python\\code\\python41810\\CodingSet5Files\\numbers.txt\", \"r\")\n",
    "\n",
    "file_contents = numbers.read()\n",
    "\n",
    "print(file_contents)\n",
    "numbers.close()"
   ]
  },
  {
   "cell_type": "markdown",
   "id": "6d1d58bf",
   "metadata": {},
   "source": [
    "#### Ex. 5) Sum of Numbers\n",
    "Assume a file containing a series of integers is named numbers.txt and exists on the computer’s\n",
    "disk. Write a program that reads all of the numbers stored in the file and calculates\n",
    "their total."
   ]
  },
  {
   "cell_type": "code",
   "execution_count": 14,
   "id": "1e13a050",
   "metadata": {},
   "outputs": [
    {
     "name": "stdout",
     "output_type": "stream",
     "text": [
      "The total is: 55\n"
     ]
    }
   ],
   "source": [
    "numbers = open(r\"C:\\Users\\Steven Hansen\\OneDrive\\Desktop\\School\\Python\\code\\python41810\\CodingSet5Files\\numbers.txt\", \"r\")\n",
    "\n",
    "num = numbers.readline()\n",
    "total = 0\n",
    "\n",
    "while num != \"\":\n",
    "    \n",
    "    total += int(num)\n",
    "    \n",
    "    num = numbers.readline()\n",
    "    \n",
    "print(\"The total is:\", total)\n",
    "numbers.close()"
   ]
  },
  {
   "cell_type": "markdown",
   "id": "0e47f568",
   "metadata": {},
   "source": [
    "#### Ex. 6) Average of Numbers\n",
    "Assume a file containing a series of integers is named numbers.txt and exists on the\n",
    "computer’s\n",
    "disk. Write a program that calculates the average of all the numbers stored in\n",
    "the file."
   ]
  },
  {
   "cell_type": "code",
   "execution_count": 16,
   "id": "c4a57ef5",
   "metadata": {},
   "outputs": [
    {
     "name": "stdout",
     "output_type": "stream",
     "text": [
      "The average is: 5.50\n"
     ]
    }
   ],
   "source": [
    "numbers = open(r\"C:\\Users\\Steven Hansen\\OneDrive\\Desktop\\School\\Python\\code\\python41810\\CodingSet5Files\\numbers.txt\", \"r\")\n",
    "\n",
    "num = numbers.readline()\n",
    "total = 0\n",
    "counter = 0\n",
    "\n",
    "while num != \"\":\n",
    "    \n",
    "    total += int(num)\n",
    "    counter += 1\n",
    "    num = numbers.readline()\n",
    "    \n",
    "print(\"The average is:\", format(total/counter, ',.2f'))\n",
    "numbers.close()"
   ]
  },
  {
   "cell_type": "markdown",
   "id": "a2888d2c",
   "metadata": {},
   "source": [
    "#### Ex. 9) Exception Handing\n",
    "Modify the program that you wrote for Exercise 6 so it handles the following exceptions:\n",
    "\n",
    "• It should handle any IOError exceptions that are raised when the file is opened and data\n",
    "is read from it.\n",
    "\n",
    "• It should handle any ValueError exceptions that are raised when the items that are read\n",
    "from the file are converted to a number."
   ]
  },
  {
   "cell_type": "code",
   "execution_count": 17,
   "id": "e7fcce64",
   "metadata": {},
   "outputs": [
    {
     "name": "stdout",
     "output_type": "stream",
     "text": [
      "The average is: 5.50\n"
     ]
    }
   ],
   "source": [
    "try:\n",
    "    numbers = open(r\"C:\\Users\\Steven Hansen\\OneDrive\\Desktop\\School\\Python\\code\\python41810\\CodingSet5Files\\numbers.txt\", \"r\")\n",
    "\n",
    "    num = numbers.readline()\n",
    "    total = 0\n",
    "    counter = 0\n",
    "except IOError:\n",
    "    print(\"ERROR: The file didn't open correctly.\")\n",
    "\n",
    "while num != \"\":\n",
    "    try:\n",
    "        total += int(num)\n",
    "        counter += 1\n",
    "        num = numbers.readline()\n",
    "    except ValusError:\n",
    "        print(\"ERROR: The values on the file must be numbers.\")\n",
    "    \n",
    "print(\"The average is:\", format(total/counter, ',.2f'))\n",
    "numbers.close()"
   ]
  },
  {
   "cell_type": "code",
   "execution_count": null,
   "id": "c4df4102",
   "metadata": {},
   "outputs": [],
   "source": []
  }
 ],
 "metadata": {
  "kernelspec": {
   "display_name": "Python 3 (ipykernel)",
   "language": "python",
   "name": "python3"
  },
  "language_info": {
   "codemirror_mode": {
    "name": "ipython",
    "version": 3
   },
   "file_extension": ".py",
   "mimetype": "text/x-python",
   "name": "python",
   "nbconvert_exporter": "python",
   "pygments_lexer": "ipython3",
   "version": "3.11.4"
  }
 },
 "nbformat": 4,
 "nbformat_minor": 5
}
