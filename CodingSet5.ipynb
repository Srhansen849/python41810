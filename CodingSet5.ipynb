{
 "cells": [
  {
   "cell_type": "markdown",
   "id": "97a71b33",
   "metadata": {},
   "source": [
    "# Coding Set 5\n",
    "Algorithm Workbench: 1, 6 | Programming Exercises: 1, 4, 17, 18"
   ]
  },
  {
   "cell_type": "markdown",
   "id": "b3728b1b",
   "metadata": {},
   "source": [
    "## Algorithm Workbench: 1, 6\n",
    "#### Ex. 1) Write a function named shout. The function should accept a string argument and display it in uppercase with an exclamation mark concatenated to the end."
   ]
  },
  {
   "cell_type": "code",
   "execution_count": 20,
   "id": "0f10f1f1",
   "metadata": {},
   "outputs": [
    {
     "name": "stdout",
     "output_type": "stream",
     "text": [
      "Enter a message: hi\n",
      "HI!\n"
     ]
    }
   ],
   "source": [
    "def Shout(message):\n",
    "    message = message.upper() + \"!\"\n",
    "    print(message)\n",
    "\n",
    "something = input(\"Enter a message: \")\n",
    "Shout(something)"
   ]
  },
  {
   "cell_type": "markdown",
   "id": "016d1e7c",
   "metadata": {},
   "source": [
    "#### Ex. 6) Write a statement that generates a random number in the range of 1 through 100 and assigns it to a variable named rand."
   ]
  },
  {
   "cell_type": "code",
   "execution_count": 16,
   "id": "039a8a35",
   "metadata": {},
   "outputs": [
    {
     "name": "stdout",
     "output_type": "stream",
     "text": [
      "86 64 92\n"
     ]
    }
   ],
   "source": [
    "import random\n",
    "\n",
    "rand1 = random.randint(1, 100)\n",
    "rand2 = random.randint(1, 100)\n",
    "rand3 = random.randint(1, 100)\n",
    "\n",
    "print(rand1, rand2, rand3)"
   ]
  },
  {
   "cell_type": "markdown",
   "id": "b70d4f02",
   "metadata": {},
   "source": [
    "## Programming Exercises: 1, 4, 17, 18\n",
    "#### Ex. 1) Kilometer Converter\n",
    "Write a program that asks the user to enter a distance in kilometers, then converts that\n",
    "distance to miles. The conversion formula is as follows:\n",
    "    \n",
    "    Miles = Kilometers * 0.6214"
   ]
  },
  {
   "cell_type": "code",
   "execution_count": 19,
   "id": "21d83680",
   "metadata": {},
   "outputs": [
    {
     "name": "stdout",
     "output_type": "stream",
     "text": [
      "Enter a distance in Kilometers: 60\n",
      "Its 37.28 Miles\n"
     ]
    }
   ],
   "source": [
    "def Convert(number):\n",
    "    number = round(number*0.6214, 2)\n",
    "    print(\"Its\", number, \"Miles\")\n",
    "    \n",
    "nums = float(input(\"Enter a distance in Kilometers: \"))\n",
    "Convert(nums)"
   ]
  },
  {
   "cell_type": "markdown",
   "id": "0d24d9ee",
   "metadata": {},
   "source": [
    "#### Ex. 4) Automobile Costs\n",
    "Write a program that asks the user to enter the monthly costs for the following expenses\n",
    "incurred from operating his or her automobile: loan payment, insurance, gas, oil, tires, and\n",
    "maintenance. The program should then display the total monthly cost of these expenses,\n",
    "and the total annual cost of these expenses."
   ]
  },
  {
   "cell_type": "code",
   "execution_count": 21,
   "id": "e8f27f25",
   "metadata": {},
   "outputs": [
    {
     "name": "stdout",
     "output_type": "stream",
     "text": [
      "Enter monthly payments for the following.\n",
      "How much did you pay on your loan: 50\n",
      "How much did you pay for insurance: 80\n",
      "How much did you spend on gas: 40\n",
      "How much did you spend on oil: 20\n",
      "How much did you spend on tires: 0\n",
      "How much did you spend on maintenance: 20\n",
      "Total for the month: 210.0\n",
      "Total for the year: 2520.0\n"
     ]
    }
   ],
   "source": [
    "def CarInconvenience():\n",
    "    print(\"Enter monthly payments for the following.\")\n",
    "    loan = float(input(\"How much did you pay on your loan: \"))\n",
    "    insurance = float(input(\"How much did you pay for insurance: \"))\n",
    "    gas = float(input(\"How much did you spend on gas: \"))\n",
    "    oil = float(input(\"How much did you spend on oil: \"))\n",
    "    tires = float(input(\"How much did you spend on tires: \"))\n",
    "    maintenance = float(input(\"How much did you spend on maintenance: \"))\n",
    "    total = round(loan + insurance + gas + oil + tires + maintenance, 2)\n",
    "    annual = round(total * 12, 2)\n",
    "    print(\"Total for the month:\", total)\n",
    "    print(\"Total for the year:\", annual)\n",
    "    \n",
    "CarInconvenience()"
   ]
  },
  {
   "cell_type": "markdown",
   "id": "4834058d",
   "metadata": {},
   "source": [
    "#### Ex. 17) Prime Numbers\n",
    "A prime number is a number that is only evenly divisible by itself and 1. For example, the\n",
    "number 5 is prime because it can only be evenly divided by 1 and 5. The number 6, however,\n",
    "is not prime because it can be divided evenly by 1, 2, 3, and 6.\n",
    "Write a Boolean function named is_prime which takes an integer as an argument and\n",
    "returns true if the argument is a prime number, or false otherwise. Use the function in\n",
    "a program that prompts the user to enter a number then displays a message indicating\n",
    "whether the number is prime."
   ]
  },
  {
   "cell_type": "code",
   "execution_count": 24,
   "id": "dfeb437d",
   "metadata": {},
   "outputs": [
    {
     "name": "stdout",
     "output_type": "stream",
     "text": [
      "Enter a number: 53\n"
     ]
    },
    {
     "data": {
      "text/plain": [
       "True"
      ]
     },
     "execution_count": 24,
     "metadata": {},
     "output_type": "execute_result"
    }
   ],
   "source": [
    "def is_prime(n):\n",
    "    if n <= 1:\n",
    "        return False\n",
    "    for i in range(2, int(n**0.5) + 1):\n",
    "        if n % i == 0:\n",
    "            return False\n",
    "    return True\n",
    "\n",
    "number = int(input(\"Enter a number: \"))\n",
    "is_prime(number)"
   ]
  },
  {
   "cell_type": "markdown",
   "id": "b517c729",
   "metadata": {},
   "source": [
    "#### Ex. 18) 18. Prime Number List\n",
    "This exercise assumes that you have already written the is_prime function in Programming\n",
    "Exercise 17. Write another program that displays all of the prime numbers from 1 to 100.\n",
    "The program should have a loop that calls the is_prime function."
   ]
  },
  {
   "cell_type": "code",
   "execution_count": 27,
   "id": "44d9f8c0",
   "metadata": {},
   "outputs": [
    {
     "name": "stdout",
     "output_type": "stream",
     "text": [
      "Here is a list of all the prime numbers from 1 to 100\n",
      "2\n",
      "3\n",
      "5\n",
      "7\n",
      "11\n",
      "13\n",
      "17\n",
      "19\n",
      "23\n",
      "29\n",
      "31\n",
      "37\n",
      "41\n",
      "43\n",
      "47\n",
      "53\n",
      "59\n",
      "61\n",
      "67\n",
      "71\n",
      "73\n",
      "79\n",
      "83\n",
      "89\n",
      "97\n"
     ]
    }
   ],
   "source": [
    "def is_prime(n):\n",
    "    if n <= 1:\n",
    "        return False\n",
    "    for i in range(2, int(n**0.5) + 1):\n",
    "        if n % i == 0:\n",
    "            return False\n",
    "    return True\n",
    "\n",
    "def main():\n",
    "    print(\"Here is a list of all the prime numbers from 1 to 100\")\n",
    "\n",
    "    for x in range(100):\n",
    "        if is_prime(x):\n",
    "            print(x)\n",
    "\n",
    "main()\n",
    "#On a side note why is 1 not a prime number?"
   ]
  },
  {
   "cell_type": "code",
   "execution_count": null,
   "id": "f2dcaa9d",
   "metadata": {},
   "outputs": [],
   "source": []
  }
 ],
 "metadata": {
  "kernelspec": {
   "display_name": "Python 3 (ipykernel)",
   "language": "python",
   "name": "python3"
  },
  "language_info": {
   "codemirror_mode": {
    "name": "ipython",
    "version": 3
   },
   "file_extension": ".py",
   "mimetype": "text/x-python",
   "name": "python",
   "nbconvert_exporter": "python",
   "pygments_lexer": "ipython3",
   "version": "3.11.4"
  }
 },
 "nbformat": 4,
 "nbformat_minor": 5
}
