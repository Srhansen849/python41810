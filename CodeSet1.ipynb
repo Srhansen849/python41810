{
 "cells": [
  {
   "cell_type": "markdown",
   "id": "c65c0ac2",
   "metadata": {},
   "source": [
    "# Charpter 1 Exc.\n",
    "\n",
    "Problems 1, 3, 5"
   ]
  },
  {
   "cell_type": "markdown",
   "id": "5d531f5e",
   "metadata": {},
   "source": [
    "## Ex. 1"
   ]
  },
  {
   "cell_type": "code",
   "execution_count": 1,
   "id": "f0d7a0ec",
   "metadata": {},
   "outputs": [
    {
     "name": "stdout",
     "output_type": "stream",
     "text": [
      "This is a test of the Python interpreter.\n"
     ]
    }
   ],
   "source": [
    "print('This is a test of the Python interpreter.')"
   ]
  },
  {
   "cell_type": "code",
   "execution_count": 2,
   "id": "d7af6198",
   "metadata": {},
   "outputs": [
    {
     "name": "stdout",
     "output_type": "stream",
     "text": [
      "Look Mom! I can do math! 1 + 1 = 2\n"
     ]
    }
   ],
   "source": [
    "print('Look Mom! I can do math! 1 + 1 =', 1+1)"
   ]
  },
  {
   "cell_type": "markdown",
   "id": "85b7103c",
   "metadata": {},
   "source": [
    "## Ex. 3"
   ]
  },
  {
   "cell_type": "code",
   "execution_count": 5,
   "id": "0a68b7f7",
   "metadata": {},
   "outputs": [
    {
     "name": "stdout",
     "output_type": "stream",
     "text": [
      "1110\n",
      "1010111\n",
      "10000000\n",
      "11111110\n"
     ]
    }
   ],
   "source": [
    "print(bin(14).replace(\"0b\", \"\"))\n",
    "print(bin(87).replace(\"0b\", \"\"))\n",
    "print(bin(128).replace(\"0b\", \"\"))\n",
    "print(bin(254).replace(\"0b\", \"\"))"
   ]
  },
  {
   "cell_type": "markdown",
   "id": "ba2a6ef2",
   "metadata": {},
   "source": [
    "## Ex. 5\n"
   ]
  },
  {
   "cell_type": "code",
   "execution_count": 9,
   "id": "98fcccf9",
   "metadata": {},
   "outputs": [
    {
     "name": "stdout",
     "output_type": "stream",
     "text": [
      "The ASCII value for ' ' is 32\n",
      "The ASCII value for 'A' is 65\n",
      "The ASCII value for 'a' is 97\n"
     ]
    }
   ],
   "source": [
    "space = ' '\n",
    "A = 'A'\n",
    "a = 'a'\n",
    "print(\"The ASCII value for ' ' is\", ord(c))\n",
    "print(\"The ASCII value for 'A' is\", ord(A))\n",
    "print(\"The ASCII value for 'a' is\", ord(a))"
   ]
  },
  {
   "cell_type": "code",
   "execution_count": null,
   "id": "db74d5e8",
   "metadata": {},
   "outputs": [],
   "source": []
  }
 ],
 "metadata": {
  "kernelspec": {
   "display_name": "Python 3 (ipykernel)",
   "language": "python",
   "name": "python3"
  },
  "language_info": {
   "codemirror_mode": {
    "name": "ipython",
    "version": 3
   },
   "file_extension": ".py",
   "mimetype": "text/x-python",
   "name": "python",
   "nbconvert_exporter": "python",
   "pygments_lexer": "ipython3",
   "version": "3.11.4"
  }
 },
 "nbformat": 4,
 "nbformat_minor": 5
}
