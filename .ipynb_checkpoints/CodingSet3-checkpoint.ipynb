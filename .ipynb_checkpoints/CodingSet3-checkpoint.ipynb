{
 "cells": [
  {
   "cell_type": "markdown",
   "id": "bfb89567",
   "metadata": {},
   "source": [
    "# Coding Set 3\n",
    "Algorithm Workbench: 4, 5;\n",
    "Programming Exercises: 1, 5, 15, 18;"
   ]
  },
  {
   "cell_type": "markdown",
   "id": "f06b3df1",
   "metadata": {},
   "source": [
    "### Algorithm Workbench: 4, 5;\n",
    "Ex. 4) The following code contains several nested if-else statements. Unfortunately, it\n",
    "was written without proper alignment and indentation. Rewrite the code and use the\n",
    "proper conventions of alignment and indentation.\n",
    "\n",
    "if score >= A_score:\n",
    "\n",
    "print('Your grade is A.')\n",
    "\n",
    "else:\n",
    "\n",
    "if score >= B_score:\n",
    "\n",
    "print('Your grade is B.')\n",
    "\n",
    "else:\n",
    "\n",
    "if score >= C_score:\n",
    "\n",
    "print('Your grade is C.')\n",
    "\n",
    "else:\n",
    "\n",
    "if score >= D_score:\n",
    "\n",
    "print('Your grade is D.')\n",
    "\n",
    "else:\n",
    "\n",
    "print('Your grade is F.')"
   ]
  },
  {
   "cell_type": "code",
   "execution_count": 4,
   "id": "7ebacb36",
   "metadata": {},
   "outputs": [
    {
     "name": "stdout",
     "output_type": "stream",
     "text": [
      "What is the student's score: 87\n",
      "Your grade is B.\n"
     ]
    }
   ],
   "source": [
    "A_score = 90\n",
    "B_score = 80\n",
    "C_score = 70\n",
    "D_score = 60\n",
    "score = int(input(\"What is the student's score: \"))\n",
    "if score >= A_score:\n",
    "    print('Your grade is A.')\n",
    "else:\n",
    "    if score >= B_score:\n",
    "        print('Your grade is B.')\n",
    "    else:\n",
    "        if score >= C_score:\n",
    "            print('Your grade is C.')\n",
    "        else:\n",
    "            if score >= D_score:\n",
    "                print('Your grade is D.')\n",
    "            else:\n",
    "                print('Your grade is F.')"
   ]
  },
  {
   "cell_type": "markdown",
   "id": "1e0e8fdc",
   "metadata": {},
   "source": [
    "Ex. 5) Write nested decision structures that perform the following: \n",
    "\n",
    "If amount1 is greater than\n",
    "10 and amount2 is less than 100, display the greater of amount1 and amount2."
   ]
  },
  {
   "cell_type": "code",
   "execution_count": 10,
   "id": "15c6f212",
   "metadata": {},
   "outputs": [
    {
     "name": "stdout",
     "output_type": "stream",
     "text": [
      "How much is in amount 1: 50\n",
      "How much is in amount 2: 50\n",
      "The amounts are the same\n"
     ]
    }
   ],
   "source": [
    "amount1 = int(input(\"How much is in amount 1: \"))\n",
    "amount2 = int(input(\"How much is in amount 2: \"))\n",
    "\n",
    "if amount1 > 10: \n",
    "    if amount2 < 100:\n",
    "        if amount1 == amount2:\n",
    "            print(\"The amounts are the same\")\n",
    "        else:\n",
    "            if amount1 > amount2:\n",
    "                print(\"Amount 1 is greater\")\n",
    "            else:\n",
    "                print(\"Amount 2 is greater\")\n",
    "    else:\n",
    "        print(\"Amount 2 exceeds 100\")\n",
    "else:\n",
    "    print(\"Amount 1 is less then 10\")"
   ]
  },
  {
   "cell_type": "markdown",
   "id": "e4fdfcde",
   "metadata": {},
   "source": [
    "### Programming Exercises: 1, 5, 15, 18;\n",
    "Ex. 1) Number Analyser\n",
    "\n",
    "Write a program that asks the user to enter an integer. The program should display\n",
    "“Positive” if the number is greater than 0, “Negative” if the number is less than 0, and\n",
    "“Zero” if the number is equal to 0. The program should then display “Even” if the number\n",
    "is even, and “Odd” if the number is odd."
   ]
  },
  {
   "cell_type": "code",
   "execution_count": 15,
   "id": "f723b313",
   "metadata": {},
   "outputs": [
    {
     "name": "stdout",
     "output_type": "stream",
     "text": [
      "Enter in a number: -1\n",
      "The number is: \n",
      "Negative\n",
      "And it is an: \n",
      "Odd\n"
     ]
    }
   ],
   "source": [
    "num = int(input(\"Enter in a number: \"))\n",
    "print(\"The number is: \")\n",
    "if num == 0:\n",
    "    print(\"Zero\")\n",
    "else:\n",
    "    if num < 0:\n",
    "        print(\"Negative\")\n",
    "    else:\n",
    "        print(\"Positive\")\n",
    "print(\"And it is an: \")\n",
    "if num%2 == 0:\n",
    "    print(\"Even\")\n",
    "else:\n",
    "    print(\"Odd\")"
   ]
  },
  {
   "cell_type": "markdown",
   "id": "14880b2a",
   "metadata": {},
   "source": [
    "Ex. 5) Mass and Weight\n",
    "\n",
    "Scientists measure an object’s mass in kilograms and its weight in newtons. If you know\n",
    "the amount of mass of an object in kilograms, you can calculate its weight in newtons with\n",
    "the following formula:\n",
    "\n",
    "                                            weight = mass * 9.8\n",
    "\n",
    "Write a program that asks the user to enter an object’s mass, then calculates its weight. If\n",
    "the object weighs more than 500 newtons, display a message indicating that it is too heavy.\n",
    "If the object weighs less than 100 newtons, display a message indicating that it is too light."
   ]
  },
  {
   "cell_type": "code",
   "execution_count": 24,
   "id": "fcb828b5",
   "metadata": {},
   "outputs": [
    {
     "name": "stdout",
     "output_type": "stream",
     "text": [
      "Is the mass in Kg or lb: lb\n",
      "What is the wieght: 50\n",
      "The object weighs 222.46 newtons\n"
     ]
    }
   ],
   "source": [
    "choice = input(\"Is the mass in Kg or lb: \")\n",
    "if choice == \"Kg\" or choice == \"kg\":\n",
    "    mass = float(input(\"What is the mass: \"))\n",
    "else:\n",
    "    mass = float(input(\"What is the wieght: \"))*0.454\n",
    "weight = mass * 9.8\n",
    "if weight > 500:\n",
    "    print(\"The object exceeds the max weight limit!\")\n",
    "else:\n",
    "    if weight < 100:\n",
    "        print(\"The object is too light to be read\")\n",
    "    else:\n",
    "        print(\"The object weighs \"+ str(weight) +\" newtons\")"
   ]
  },
  {
   "cell_type": "markdown",
   "id": "c6815e48",
   "metadata": {},
   "source": [
    "Ex. 15) Time Calculator\n",
    "\n",
    "Write a program that asks the user to enter a number of seconds and works as follows:\n",
    "\n",
    "• There are 60 seconds in a minute. If the number of seconds entered by the user is greater\n",
    "than or equal to 60, the program should convert the number of seconds to minutes and\n",
    "seconds.\n",
    "\n",
    "• There are 3,600 seconds in an hour. If the number of seconds entered by the user is\n",
    "greater than or equal to 3,600, the program should convert the number of seconds to\n",
    "hours, minutes, and seconds.\n",
    "\n",
    "• There are 86,400 seconds in a day. If the number of seconds entered by the user is\n",
    "greater than or equal to 86,400, the program should convert the number of seconds to\n",
    "days, hours, minutes, and seconds."
   ]
  },
  {
   "cell_type": "code",
   "execution_count": 32,
   "id": "4e0f6dcd",
   "metadata": {},
   "outputs": [
    {
     "name": "stdout",
     "output_type": "stream",
     "text": [
      "Enter in a number of seconds: 91752\n",
      "Days: 1\n",
      "Hours: 1\n",
      "Minutes: 0\n",
      "Seconds: 12\n"
     ]
    }
   ],
   "source": [
    "time = int(input(\"Enter in a number of seconds: \"))\n",
    "if time > 86400:\n",
    "    days = time//86400\n",
    "    hours = time%86400\n",
    "    minutes = hours%60\n",
    "    seconds = int(minutes%60)\n",
    "    hours = hours//3600\n",
    "    minutes = minutes//60\n",
    "    print(\"Days: \"+str(days))\n",
    "    print(\"Hours: \"+str(hours))\n",
    "    print(\"Minutes: \"+str(minutes))\n",
    "    print(\"Seconds: \"+str(seconds))\n",
    "else: \n",
    "    if time > 3600:\n",
    "        hours = time%86400\n",
    "        minutes = hours%60\n",
    "        seconds = int(minutes%60)\n",
    "        hours = hours//3600\n",
    "        minutes = minutes//60\n",
    "        print(\"Hours: \"+str(hours))\n",
    "        print(\"Minutes: \"+str(minutes))\n",
    "        print(\"Seconds: \"+str(seconds))\n",
    "    else:\n",
    "        minutes = time%60\n",
    "        seconds = int(minutes%60)\n",
    "        minutes = minutes//60\n",
    "        print(\"Minutes: \"+str(minutes))\n",
    "        print(\"Seconds: \"+str(seconds))\n",
    "    "
   ]
  },
  {
   "cell_type": "markdown",
   "id": "fb8de07c",
   "metadata": {},
   "source": [
    "Ex. 18)Restaurant Selector\n",
    "\n",
    "You have a group of friends coming to visit for your high school reunion, and you want\n",
    "to take them out to eat at a local restaurant. You aren’t sure if any of them have dietary\n",
    "restrictions, but your restaurant choices are as follows:\n",
    "\n",
    "Joe’s Gourmet Burgers — Vegetarian: No, Vegan: No, Gluten-Free: No\n",
    "\n",
    "Main Street Pizza Company — Vegetarian: Yes, Vegan: No, Gluten-Free: Yes\n",
    "\n",
    "Corner Café — Vegetarian: Yes, Vegan: Yes, Gluten-Free: Yes\n",
    "\n",
    "Mama’s Fine Italian — Vegetarian: Yes, Vegan: No, Gluten-Free: No\n",
    "\n",
    "The Chef’s Kitchen — Vegetarian: Yes, Vegan: Yes, Gluten-Free: Yes\n",
    "\n",
    "Write a program that asks whether any members of your party are vegetarian, vegan, or\n",
    "gluten-free, to which then displays only the restaurants to which you may take the group."
   ]
  },
  {
   "cell_type": "code",
   "execution_count": 36,
   "id": "a54fdc13",
   "metadata": {},
   "outputs": [
    {
     "name": "stdout",
     "output_type": "stream",
     "text": [
      "Is anyone in your party a vegetarian? yes\n",
      "Is anyone in your party a vegan? no\n",
      "Is anyone in your party gluten-free? no\n",
      "Here are your restaurant choices:\n",
      "\tMain Street Pizza Company\n",
      "\tCorner Café\n",
      "\tMama’s Fine Italian\n",
      "\tThe Chef’s Kitchen\n"
     ]
    }
   ],
   "source": [
    "vegetarian = input(\"Is anyone in your party a vegetarian? \")\n",
    "if vegetarian == \"Yes\" or vegetarian == \"yes\" or vegetarian == \"YES\":\n",
    "    vegetarian = True\n",
    "else:\n",
    "    vegetarian = False\n",
    "    \n",
    "vegan = input(\"Is anyone in your party a vegan? \")\n",
    "if vegan == \"Yes\" or vegan == \"yes\" or vegan == \"YES\":\n",
    "    vegan = True\n",
    "else:\n",
    "    vegan = False\n",
    "    \n",
    "gluten = input(\"Is anyone in your party gluten-free? \")\n",
    "if gluten == \"Yes\" or gluten == \"yes\" or gluten == \"YES\":\n",
    "    gluten = True\n",
    "else:\n",
    "    gluten = False\n",
    "    \n",
    "print(\"Here are your restaurant choices:\")\n",
    "if vegetarian and vegan and gluten:\n",
    "    print(\"\\tCorner Café\")\n",
    "    print(\"\\tThe Chef’s Kitchen\")\n",
    "else:\n",
    "    if vegetarian and vegan:\n",
    "        print(\"\\tCorner Café\")\n",
    "        print(\"\\tThe Chef’s Kitchen\")\n",
    "    else:\n",
    "        if vegetarian and gluten:\n",
    "            print(\"\\tMain Street Pizza Company\")\n",
    "            print(\"\\tCorner Café\")\n",
    "            print(\"\\tThe Chef’s Kitchen\")\n",
    "        else:\n",
    "            if vegan and gluten:\n",
    "                print(\"\\tCorner Café\")\n",
    "                print(\"\\tThe Chef’s Kitchen\")\n",
    "            else:\n",
    "                if vegetarian:\n",
    "                    print(\"\\tMain Street Pizza Company\")\n",
    "                    print(\"\\tCorner Café\")\n",
    "                    print(\"\\tMama’s Fine Italian\")\n",
    "                    print(\"\\tThe Chef’s Kitchen\")\n",
    "                else:\n",
    "                    if vegan:\n",
    "                        print(\"\\tCorner Café\")\n",
    "                        print(\"\\tThe Chef’s Kitchen\")\n",
    "                    else:\n",
    "                        if gluten:\n",
    "                            print(\"\\tMain Street Pizza Company\")\n",
    "                            print(\"\\tCorner Café\")\n",
    "                            print(\"\\tThe Chef’s Kitchen\")\n",
    "                        else:\n",
    "                            print(\"\\tJoe’s Gourmet Burgers\")\n",
    "                            print(\"\\tMain Street Pizza Company\")\n",
    "                            print(\"\\tCorner Café\")\n",
    "                            print(\"\\tMama’s Fine Italian\")\n",
    "                            print(\"\\tThe Chef’s Kitchen\")"
   ]
  },
  {
   "cell_type": "code",
   "execution_count": null,
   "id": "ac0f4603",
   "metadata": {},
   "outputs": [],
   "source": []
  }
 ],
 "metadata": {
  "kernelspec": {
   "display_name": "Python 3 (ipykernel)",
   "language": "python",
   "name": "python3"
  },
  "language_info": {
   "codemirror_mode": {
    "name": "ipython",
    "version": 3
   },
   "file_extension": ".py",
   "mimetype": "text/x-python",
   "name": "python",
   "nbconvert_exporter": "python",
   "pygments_lexer": "ipython3",
   "version": "3.11.4"
  }
 },
 "nbformat": 4,
 "nbformat_minor": 5
}
