{
 "cells": [
  {
   "cell_type": "markdown",
   "id": "3f4cee42",
   "metadata": {},
   "source": [
    "# Coding Set 4\n",
    "Algorithm Workbench : 3, 5 | Programming Exercises : 1, 4, 12, 15"
   ]
  },
  {
   "cell_type": "markdown",
   "id": "38b18571",
   "metadata": {},
   "source": [
    "## Algorithm Workbench: 3, 5\n",
    "#### Ex. 3) Write a for loop that uses the range function to display all odd numbers between 1 and 100."
   ]
  },
  {
   "cell_type": "code",
   "execution_count": 23,
   "id": "848c9aae",
   "metadata": {},
   "outputs": [
    {
     "name": "stdout",
     "output_type": "stream",
     "text": [
      "1\n",
      "3\n",
      "5\n",
      "7\n",
      "9\n",
      "11\n",
      "13\n",
      "15\n",
      "17\n",
      "19\n",
      "21\n",
      "23\n",
      "25\n",
      "27\n",
      "29\n",
      "31\n",
      "33\n",
      "35\n",
      "37\n",
      "39\n",
      "41\n",
      "43\n",
      "45\n",
      "47\n",
      "49\n",
      "51\n",
      "53\n",
      "55\n",
      "57\n",
      "59\n",
      "61\n",
      "63\n",
      "65\n",
      "67\n",
      "69\n",
      "71\n",
      "73\n",
      "75\n",
      "77\n",
      "79\n",
      "81\n",
      "83\n",
      "85\n",
      "87\n",
      "89\n",
      "91\n",
      "93\n",
      "95\n",
      "97\n",
      "99\n"
     ]
    }
   ],
   "source": [
    "for n in range(100):\n",
    "    if(n%2 == 1): print(n)"
   ]
  },
  {
   "cell_type": "markdown",
   "id": "150676e8",
   "metadata": {},
   "source": [
    "#### Ex. 5) Write a loop that calculates the total of the following series of numbers:\n",
    "1/30 + 2/29 + 3/28 + ... + 30/1 "
   ]
  },
  {
   "cell_type": "code",
   "execution_count": 24,
   "id": "07acaabe",
   "metadata": {},
   "outputs": [
    {
     "name": "stdout",
     "output_type": "stream",
     "text": [
      "1 / 30 +\n",
      "2 / 29 +\n",
      "3 / 28 +\n",
      "4 / 27 +\n",
      "5 / 26 +\n",
      "6 / 25 +\n",
      "7 / 24 +\n",
      "8 / 23 +\n",
      "9 / 22 +\n",
      "10 / 21 +\n",
      "11 / 20 +\n",
      "12 / 19 +\n",
      "13 / 18 +\n",
      "14 / 17 +\n",
      "15 / 16 +\n",
      "16 / 15 +\n",
      "17 / 14 +\n",
      "18 / 13 +\n",
      "19 / 12 +\n",
      "20 / 11 +\n",
      "21 / 10 +\n",
      "22 / 9 +\n",
      "23 / 8 +\n",
      "24 / 7 +\n",
      "25 / 6 +\n",
      "26 / 5 +\n",
      "27 / 4 +\n",
      "28 / 3 +\n",
      "29 / 2 +\n",
      "30 / 1 +\n",
      "The total sum is:  438.9949871309204\n"
     ]
    }
   ],
   "source": [
    "n = 30\n",
    "sum = 0\n",
    "for x in range(30):\n",
    "    print(x+1, '/', n, '+')\n",
    "    sum += x+1 / n\n",
    "    n -= 1\n",
    "print('The total sum is: ', sum)"
   ]
  },
  {
   "cell_type": "markdown",
   "id": "4903a196",
   "metadata": {},
   "source": [
    "## Programming Exercises: 1, 4, 12, 15\n",
    "#### Ex. 1) Bug Collector\n",
    "A bug collector collects bugs every day for five days. Write a program that keeps a running\n",
    "total of the number of bugs collected during the five days. The loop should ask for the\n",
    "number of bugs collected for each day, and when the loop is finished, the program should\n",
    "display the total number of bugs collected."
   ]
  },
  {
   "cell_type": "code",
   "execution_count": 26,
   "id": "a9fa323f",
   "metadata": {},
   "outputs": [
    {
     "name": "stdout",
     "output_type": "stream",
     "text": [
      "How many bugs did you collect today: 1\n",
      "How many bugs did you collect today: 1\n",
      "How many bugs did you collect today: 1\n",
      "How many bugs did you collect today: 1\n",
      "How many bugs did you collect today: 1\n",
      "The total number of bug you've caught for the week is:  5\n"
     ]
    }
   ],
   "source": [
    "x = 5\n",
    "sum = 0\n",
    "while x > 0:\n",
    "    sum += int(input('How many bugs did you collect today: '))\n",
    "    x -= 1\n",
    "    \n",
    "print('The total number of bug you\\'ve caught for the week is: ', sum)"
   ]
  },
  {
   "cell_type": "markdown",
   "id": "5e6664e9",
   "metadata": {},
   "source": [
    "#### Ex. 4) Distance Traveled\n",
    "The distance a vehicle travels can be calculated as follows:\n",
    "        \n",
    "        distance = speed * time\n",
    "\n",
    "For example, if a train travels 40 miles per hour for three hours, the distance traveled is\n",
    "120 miles. Write a program that asks the user for the speed of a vehicle (in miles per hour)\n",
    "and the number of hours it has traveled. It should then use a loop to display the distance\n",
    "the vehicle has traveled for each hour of that time period."
   ]
  },
  {
   "cell_type": "code",
   "execution_count": 37,
   "id": "797a4fe2",
   "metadata": {},
   "outputs": [
    {
     "name": "stdout",
     "output_type": "stream",
     "text": [
      "How many hours has the vehicle been traveling: 4\n",
      "How fast was it going: 50\n",
      "Hour________Distance Traveled__________________Origin Point\n",
      "1 \t 50 Miles 80.45 Kilometers \t 50 Miles 80.45 Kilometers\n",
      "2 \t 100 Miles 160.9 Kilometers \t 150 Miles 241.35 Kilometers\n",
      "3 \t 150 Miles 241.35 Kilometers \t 300 Miles 482.7 Kilometers\n",
      "4 \t 200 Miles 321.8 Kilometers \t 500 Miles 804.5 Kilometers\n",
      "_______________________________________________________________________\n",
      "The total distance traveled was 200 Miles or 321.8 Kilometers and 500 Miles or 804.5 Kilometers from the Origin point\n"
     ]
    }
   ],
   "source": [
    "time = int(input('How many hours has the vehicle been traveling: '))\n",
    "speed = int(input('How fast was it going: '))\n",
    "distance = 0.0\n",
    "origin = 0\n",
    "print('Hour________Distance Traveled__________________Origin Point')\n",
    "for x in range(time+1):\n",
    "    distance = speed * x\n",
    "    origin += speed * x\n",
    "    if(x == 0): continue\n",
    "    print(x, '\\t', distance, 'Miles', distance*1.609, 'Kilometers', '\\t', origin, 'Miles', origin*1.609, 'Kilometers')\n",
    "print('_______________________________________________________________________')\n",
    "\n",
    "print('The total distance traveled was', speed*time, 'Miles or', speed*time*1.609,\n",
    "      'Kilometers and', origin, 'Miles or', origin*1.609, 'Kilometers from the Origin point')"
   ]
  },
  {
   "cell_type": "markdown",
   "id": "87cbbd45",
   "metadata": {},
   "source": [
    "#### Ex. 12)Calculating the Factorial of a Number\n",
    "In mathematics, the notation n! represents the factorial of the nonnegative integer n. The\n",
    "factorial of n is the product of all the nonnegative integers from 1 to n. For example,\n",
    "\n",
    "    7! = 1 * 2 * 3 * 4 * 5 * 6 * 7 = 5,040\n",
    "    \n",
    "and\n",
    "\n",
    "    4! = 1 * 2 * 3 * 4 = 24\n",
    "    \n",
    "Write a program that lets the user enter a nonnegative integer then uses a loop to calculate\n",
    "the factorial of that number. Display the factorial."
   ]
  },
  {
   "cell_type": "code",
   "execution_count": 5,
   "id": "63128a6d",
   "metadata": {},
   "outputs": [
    {
     "name": "stdout",
     "output_type": "stream",
     "text": [
      "Enter a number that you want factored: 5\n",
      "5 ! =\n",
      "1 *\n",
      "2 *\n",
      "3 *\n",
      "4 *\n",
      "5 *\n",
      "= 120\n"
     ]
    }
   ],
   "source": [
    "again = 'y'\n",
    "while(again == 'y'):\n",
    "    num = int(input('Enter a number that you want factored: '))\n",
    "    if(num == 0 | num < 0):\n",
    "        print('Why?')\n",
    "        again = input('Would you like to try again? (y/n)')\n",
    "    if(num == 100 | num > 100):\n",
    "        print('Why?')\n",
    "        again = input('Would you like to try again? (y/n)')\n",
    "    again = 'n'\n",
    "\n",
    "fact = 1\n",
    "print(num, '! =')\n",
    "for x in range(num+1):\n",
    "    if(x == 0): continue\n",
    "    fact *= x\n",
    "    print(x, '*')\n",
    "    \n",
    "print('=', fact)"
   ]
  },
  {
   "cell_type": "markdown",
   "id": "9ac16cdb",
   "metadata": {},
   "source": [
    "#### Ex. 15) Write a program that uses nested loops to draw this pattern:\n",
    "(replace '%' for # and '_' with space)\n",
    "\n",
    "%%\n",
    "\n",
    "%_%\n",
    "\n",
    "%__%\n",
    "\n",
    "%___%\n",
    "\n",
    "%____%\n",
    "\n",
    "%_____%"
   ]
  },
  {
   "cell_type": "code",
   "execution_count": 28,
   "id": "68db626d",
   "metadata": {},
   "outputs": [
    {
     "name": "stdout",
     "output_type": "stream",
     "text": [
      "How long do you want the pattern to go: 5\n",
      "##\n",
      "# #\n",
      "#  #\n",
      "#   #\n",
      "#    #\n",
      "#     #\n",
      "#    #\n",
      "#   #\n",
      "#  #\n",
      "# #\n",
      "##\n"
     ]
    }
   ],
   "source": [
    "#I don't understand why this was asking for a nested loop. I tried one but it would add '#' in between the end '#' \n",
    "num = int(input('How long do you want the pattern to go: '))\n",
    "temp = num\n",
    "for i in range(num):\n",
    "    print('#' + ' ' * i + '#')\n",
    "for j in range(num+1):\n",
    "    print('#' + ' ' * temp + '#')\n",
    "    temp -= 1"
   ]
  },
  {
   "cell_type": "code",
   "execution_count": null,
   "id": "dc2e8a34",
   "metadata": {},
   "outputs": [],
   "source": []
  }
 ],
 "metadata": {
  "kernelspec": {
   "display_name": "Python 3 (ipykernel)",
   "language": "python",
   "name": "python3"
  },
  "language_info": {
   "codemirror_mode": {
    "name": "ipython",
    "version": 3
   },
   "file_extension": ".py",
   "mimetype": "text/x-python",
   "name": "python",
   "nbconvert_exporter": "python",
   "pygments_lexer": "ipython3",
   "version": "3.11.4"
  }
 },
 "nbformat": 4,
 "nbformat_minor": 5
}
