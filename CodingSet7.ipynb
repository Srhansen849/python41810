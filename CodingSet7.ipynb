{
 "cells": [
  {
   "cell_type": "markdown",
   "id": "2b14c552",
   "metadata": {},
   "source": [
    "# Coding Set 7\n",
    "Algorithm Workbench: 1, 5 | Programming Exercises: 1, 2, 6, 14 "
   ]
  },
  {
   "cell_type": "markdown",
   "id": "17f71ec2",
   "metadata": {},
   "source": [
    "## Algorithm Workbench: 1, 5\n",
    "#### Ex. 1) Write a statement that uses the list and range functions to create a list of the numbers from 1 to 100."
   ]
  },
  {
   "cell_type": "code",
   "execution_count": 2,
   "id": "47011ab4",
   "metadata": {},
   "outputs": [
    {
     "name": "stdout",
     "output_type": "stream",
     "text": [
      "[1, 2, 3, 4, 5, 6, 7, 8, 9, 10, 11, 12, 13, 14, 15, 16, 17, 18, 19, 20, 21, 22, 23, 24, 25, 26, 27, 28, 29, 30, 31, 32, 33, 34, 35, 36, 37, 38, 39, 40, 41, 42, 43, 44, 45, 46, 47, 48, 49, 50, 51, 52, 53, 54, 55, 56, 57, 58, 59, 60, 61, 62, 63, 64, 65, 66, 67, 68, 69, 70, 71, 72, 73, 74, 75, 76, 77, 78, 79, 80, 81, 82, 83, 84, 85, 86, 87, 88, 89, 90, 91, 92, 93, 94, 95, 96, 97, 98, 99]\n"
     ]
    }
   ],
   "source": [
    "numbers = list(range(1,100))\n",
    "print(numbers)"
   ]
  },
  {
   "cell_type": "markdown",
   "id": "01555653",
   "metadata": {},
   "source": [
    "#### Ex. 5) Write a function that accepts a list as an argument (assume the list contains integers) and returns the total of the values in the list."
   ]
  },
  {
   "cell_type": "code",
   "execution_count": 4,
   "id": "47bf0b0c",
   "metadata": {},
   "outputs": [
    {
     "name": "stdout",
     "output_type": "stream",
     "text": [
      "The total for the list is: 4950\n"
     ]
    }
   ],
   "source": [
    "def list_sum(numbers):\n",
    "    total = 0\n",
    "    for num in numbers:\n",
    "        total += num\n",
    "    return total\n",
    "\n",
    "my_list = list(range(1,100))\n",
    "list_total = list_sum(my_list)\n",
    "print(\"The total for the list is:\",list_total)"
   ]
  },
  {
   "cell_type": "markdown",
   "id": "f67d179d",
   "metadata": {},
   "source": [
    "## Programming Exercises: 1, 2, 6, 14\n",
    "#### Ex. 1) Valid Number Information\n",
    "Design a program that uses a loop to build a list named valid_numbers that contains only\n",
    "the numbers between 0 and 100 from the numbers list below. The program should then\n",
    "determine and display the total and average of the values in the valid_numbers list.\n",
    "\n",
    "    numbers = [74, 19, 105, 20, −2, 67, 77, 124, −45, 38]"
   ]
  },
  {
   "cell_type": "code",
   "execution_count": 6,
   "id": "ffbf3e53",
   "metadata": {},
   "outputs": [
    {
     "name": "stdout",
     "output_type": "stream",
     "text": [
      "The list contains: [74, 19, 20, 67, 77, 38]\n",
      "Total: 295\n",
      "Average: 49.166666666666664\n"
     ]
    }
   ],
   "source": [
    "numbers = [74, 19, 105, 20, -2, 67, 77, 124, -45, 38]\n",
    "valid_numbers = []\n",
    "\n",
    "for number in numbers:\n",
    "    if 0 <= number <= 100:\n",
    "        valid_numbers.append(number)\n",
    "\n",
    "total = sum(valid_numbers)\n",
    "average = total / len(valid_numbers)\n",
    "\n",
    "print(\"The list contains:\", valid_numbers)\n",
    "print(\"Total:\", total)\n",
    "print(\"Average:\", average)"
   ]
  },
  {
   "cell_type": "markdown",
   "id": "3d9b0c32",
   "metadata": {},
   "source": [
    "#### Ex. 2) Lottery Number Generator\n",
    "Design a program that generates a seven-digit lottery number. The program should generate\n",
    "seven random numbers, each in the range of 0 through 9, and assign each number to a\n",
    "list element. (Random numbers were discussed in Chapter 5.) Then write another loop that\n",
    "displays the contents of the list."
   ]
  },
  {
   "cell_type": "code",
   "execution_count": 13,
   "id": "3dc97693",
   "metadata": {},
   "outputs": [
    {
     "name": "stdout",
     "output_type": "stream",
     "text": [
      "Your lottery numbers are:\n",
      "6 2 3 0 1 4 3 "
     ]
    }
   ],
   "source": [
    "import random\n",
    "\n",
    "def main():\n",
    "  # Create an empty list to store the lottery numbers\n",
    "  lottery_numbers = []\n",
    "\n",
    "  # Generate seven random numbers, each in the range of 0 through 9\n",
    "  for i in range(7):\n",
    "    lottery_numbers.append(random.randint(0, 9))\n",
    "\n",
    "  # Display the lottery numbers\n",
    "  print(\"Your lottery numbers are:\")\n",
    "  for number in lottery_numbers:\n",
    "    print(number, end=' ')\n",
    "\n",
    "# Call the main function to run the program\n",
    "if __name__ == \"__main__\":\n",
    "  main()"
   ]
  },
  {
   "cell_type": "markdown",
   "id": "15b2cad6",
   "metadata": {},
   "source": [
    "#### Ex. 6) Dice Rolling Function\n",
    "In a program, write a function named roll that accepts an integer argument number_\n",
    "of_throws. The function should generate and return a sorted list of number_of_throws\n",
    "random numbers between 1 and 6. The program should prompt the user to enter a positive\n",
    "integer that is sent to the function, and then print the returned list."
   ]
  },
  {
   "cell_type": "code",
   "execution_count": 7,
   "id": "bec0a085",
   "metadata": {},
   "outputs": [
    {
     "name": "stdout",
     "output_type": "stream",
     "text": [
      "Enter the number of throws: 6\n",
      "Rolls: [3, 4, 5, 5, 6, 6]\n"
     ]
    }
   ],
   "source": [
    "import random\n",
    "\n",
    "def roll(number_of_throws):\n",
    "    rolls = []\n",
    "    for _ in range(number_of_throws):\n",
    "        roll_value = random.randint(1, 6)\n",
    "        rolls.append(roll_value)\n",
    "\n",
    "    rolls.sort()\n",
    "    return rolls\n",
    "\n",
    "if __name__ == \"__main__\":\n",
    "    number_of_throws = int(input(\"Enter the number of throws: \"))\n",
    "\n",
    "    rolls = roll(number_of_throws)\n",
    "    print(\"Rolls:\", rolls)"
   ]
  },
  {
   "cell_type": "markdown",
   "id": "a8132a02",
   "metadata": {},
   "source": [
    "#### Ex. 14) Expense Pie Chart\n",
    "Create a text file that contains your expenses for last month in the following categories:\n",
    "\n",
    "• Rent\n",
    "\n",
    "• Gas\n",
    "\n",
    "• Food\n",
    "\n",
    "• Clothing\n",
    "\n",
    "• Car payment\n",
    "\n",
    "• Misc\n",
    "\n",
    "Write a Python program that reads the data from the file and uses matplotlib to plot a pie\n",
    "chart showing how you spend your money."
   ]
  },
  {
   "cell_type": "code",
   "execution_count": 28,
   "id": "9995e7f9",
   "metadata": {},
   "outputs": [
    {
     "data": {
      "image/png": "[encoded data removed]",
      "text/plain": [
       "<Figure size 800x800 with 1 Axes>"
      ]
     },
     "metadata": {},
     "output_type": "display_data"
    }
   ],
   "source": [
    "import matplotlib.pyplot as plt\n",
    "\n",
    "\n",
    "# Read the expenses from the file\n",
    "expenses = {}\n",
    "with open(r'C:\\Users\\Steven Hansen\\OneDrive\\Desktop\\School\\Python\\code\\python41810\\CodingSet5Files\\expenses.txt', 'r') as f:\n",
    "    for line in f:\n",
    "        category, amount = line.strip().split(',')\n",
    "        expenses[category] = float(amount)\n",
    "\n",
    "# Calculate the total expenses\n",
    "total_expenses = sum(expenses.values())\n",
    "\n",
    "# Calculate the percentages\n",
    "percentages = {category: amount / total_expenses * 100 for category, amount in expenses.items()}\n",
    "\n",
    "# Create the pie chart\n",
    "plt.figure(figsize=(8, 8))\n",
    "plt.pie(percentages.values(), labels=percentages.keys(), autopct='%1.1f%%')\n",
    "plt.title('Expenses Pie Chart')\n",
    "\n",
    "# Save the pie chart as an image\n",
    "plt.savefig('expenses_pie_chart.png')\n",
    "\n",
    "# Show the pie chart\n",
    "plt.show()"
   ]
  },
  {
   "cell_type": "code",
   "execution_count": null,
   "id": "6aefd8a5",
   "metadata": {},
   "outputs": [],
   "source": []
  }
 ],
 "metadata": {
  "kernelspec": {
   "display_name": "Python 3 (ipykernel)",
   "language": "python",
   "name": "python3"
  },
  "language_info": {
   "codemirror_mode": {
    "name": "ipython",
    "version": 3
   },
   "file_extension": ".py",
   "mimetype": "text/x-python",
   "name": "python",
   "nbconvert_exporter": "python",
   "pygments_lexer": "ipython3",
   "version": "3.11.4"
  }
 },
 "nbformat": 4,
 "nbformat_minor": 5
}
